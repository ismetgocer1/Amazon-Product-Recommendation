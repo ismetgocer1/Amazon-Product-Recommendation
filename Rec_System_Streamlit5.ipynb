{
 "cells": [
  {
   "cell_type": "code",
   "execution_count": null,
   "id": "f19aa556",
   "metadata": {
    "ExecuteTime": {
     "end_time": "2023-12-06T09:39:54.823237Z",
     "start_time": "2023-12-06T09:39:54.816739Z"
    }
   },
   "outputs": [],
   "source": [
    "%%writefile Rec_System_Streamlit4.py\n",
    "import streamlit as st\n",
    "import pandas as pd\n",
    "import streamlit.components.v1 as components\n",
    "\n",
    "# Veri setlerini yükleyin\n",
    "buy_box_unq = pd.read_csv('Int4_1_Cleaned_Buy_Box_Unqualified.csv')\n",
    "image_data = pd.read_excel('merged.xlsx')\n",
    "\n",
    "# Streamlit arayüzünü oluşturma\n",
    "st.markdown(\n",
    "    \"\"\"\n",
    "    <style>\n",
    "    .stApp {\n",
    "        background-color: orange;  /* Arka plan rengi */\n",
    "    }\n",
    "    .custom-text {\n",
    "        font-size: 24px; /* Yazı boyutu */\n",
    "        color: red;      /* Yazı rengi */\n",
    "    }\n",
    "    </style>\n",
    "    \"\"\",\n",
    "    unsafe_allow_html=True\n",
    ")\n",
    "\n",
    "st.image(\"Amazon.png\", use_column_width=True)\n",
    "# Kenar çubuğu için ASIN seçici ekle\n",
    "unique_asins = buy_box_unq['ASIN'].unique()  # Veri setinden benzersiz ASIN'leri al\n",
    "selected_asin = st.sidebar.selectbox(\"ASIN Seçiniz\", unique_asins)\n",
    "# Seçilen ASIN'i bir metin olarak gösterin ve kopyalanabilir yapın\n",
    "st.sidebar.text(f\"Seçilen ASIN: {selected_asin}\")\n",
    "\n",
    "\n",
    "def find_related_products(asin, df):\n",
    "    related_products = [asin]  # Verilen ASIN ile başla\n",
    "    index = 0\n",
    "    while index < len(related_products):\n",
    "        current_asin = related_products[index]\n",
    "        filtered_df = df[df['ASIN'] == current_asin]\n",
    "        if not filtered_df.empty:\n",
    "            freq_bought_together = filtered_df.iloc[0]['Freq. Bought Together']\n",
    "            if pd.notna(freq_bought_together) and freq_bought_together != 'nan':\n",
    "                for product in freq_bought_together.split(', '):\n",
    "                    if product not in related_products:\n",
    "                        related_products.append(product)\n",
    "        index += 1\n",
    "    related_products.remove(asin)  # İlk eklenen ASIN'i kaldır\n",
    "    return related_products\n",
    "\n",
    "st.title('Ürün Tavsiye Sistemi')\n",
    "\n",
    "asin_input = st.text_input('Beraber satılan ürünleri bulmak için bir ASIN girin:', '')\n",
    "\n",
    "if asin_input:\n",
    "    product_row = buy_box_unq[buy_box_unq['ASIN'] == asin_input]\n",
    "    if not product_row.empty:\n",
    "        product_details = product_row.iloc[0]\n",
    "        st.write(f\"**Ürün Adı:** {product_details['ASIN']}\")\n",
    "        st.write(f\"**Kategori:** {product_details['Categories: Root']} > {product_details['Categories: Sub']}\")\n",
    "        st.write(f\"**Son Aydaki Satış:** {product_details['Bought in past month']}\")\n",
    "        st.write(f\"**Rating:** {product_details['Reviews: Rating']}\")\n",
    "\n",
    "        # ASIN'e ait resmi göster\n",
    "        link_series = image_data[image_data['ASIN'] == asin_input]['Image']\n",
    "        if not link_series.empty and pd.notna(link_series.iloc[0]):\n",
    "            link = link_series.iloc[0]\n",
    "            st.image(link, width=300, use_column_width=False, caption=f'ASIN: {asin_input}')\n",
    "\n",
    "        related_products = find_related_products(asin_input, buy_box_unq)\n",
    "        if related_products:\n",
    "            st.subheader('Beraber Satın Alınan Ürünler:')\n",
    "            st.write(related_products)\n",
    "            for rp_asin in related_products:\n",
    "                rp_row = buy_box_unq[buy_box_unq['ASIN'] == rp_asin]\n",
    "                if not rp_row.empty:\n",
    "                    rp_details = rp_row.iloc[0]\n",
    "                    st.write(f\"**Ürün Adı:** {rp_details['ASIN']} - **Kategori:** {rp_details['Categories: Root']} > {rp_details['Categories: Sub']} - **Son Aydaki Satışlar:** {rp_details['Bought in past month']} - **Rating:** {rp_details['Reviews: Rating']}\")\n",
    "            # Web sitesini bir iframe içinde göster\n",
    "            st.markdown(\"### Amazon ASIN Arama\")\n",
    "            components.iframe(\"https://amazon-asin.com/\", height=500, scrolling=True)\n",
    "        else:\n",
    "            st.write('Bu ASIN ile beraber satın alınan başka bir ürün bulunamadı.')\n",
    "    else:\n",
    "        st.error(f\"{asin_input} ASIN'ine ait bilgi bulunamadı.\")\n"
   ]
  },
  {
   "cell_type": "code",
   "execution_count": null,
   "id": "f4046855",
   "metadata": {
    "ExecuteTime": {
     "start_time": "2023-12-06T09:39:55.004Z"
    }
   },
   "outputs": [],
   "source": [
    "!streamlit run Rec_System_Streamlit4.py"
   ]
  },
  {
   "cell_type": "code",
   "execution_count": null,
   "id": "957be50e",
   "metadata": {},
   "outputs": [],
   "source": []
  },
  {
   "cell_type": "code",
   "execution_count": null,
   "id": "4fa1ad9c",
   "metadata": {},
   "outputs": [],
   "source": []
  }
 ],
 "metadata": {
  "hide_input": false,
  "kernelspec": {
   "display_name": "Python 3 (ipykernel)",
   "language": "python",
   "name": "python3"
  },
  "language_info": {
   "codemirror_mode": {
    "name": "ipython",
    "version": 3
   },
   "file_extension": ".py",
   "mimetype": "text/x-python",
   "name": "python",
   "nbconvert_exporter": "python",
   "pygments_lexer": "ipython3",
   "version": "3.11.5"
  },
  "nbTranslate": {
   "displayLangs": [
    "*"
   ],
   "hotkey": "alt-t",
   "langInMainMenu": true,
   "sourceLang": "en",
   "targetLang": "fr",
   "useGoogleTranslate": true
  },
  "toc": {
   "base_numbering": 1,
   "nav_menu": {},
   "number_sections": true,
   "sideBar": true,
   "skip_h1_title": false,
   "title_cell": "Table of Contents",
   "title_sidebar": "Contents",
   "toc_cell": false,
   "toc_position": {},
   "toc_section_display": true,
   "toc_window_display": false
  },
  "varInspector": {
   "cols": {
    "lenName": 16,
    "lenType": 16,
    "lenVar": 40
   },
   "kernels_config": {
    "python": {
     "delete_cmd_postfix": "",
     "delete_cmd_prefix": "del ",
     "library": "var_list.py",
     "varRefreshCmd": "print(var_dic_list())"
    },
    "r": {
     "delete_cmd_postfix": ") ",
     "delete_cmd_prefix": "rm(",
     "library": "var_list.r",
     "varRefreshCmd": "cat(var_dic_list()) "
    }
   },
   "types_to_exclude": [
    "module",
    "function",
    "builtin_function_or_method",
    "instance",
    "_Feature"
   ],
   "window_display": false
  }
 },
 "nbformat": 4,
 "nbformat_minor": 5
}
